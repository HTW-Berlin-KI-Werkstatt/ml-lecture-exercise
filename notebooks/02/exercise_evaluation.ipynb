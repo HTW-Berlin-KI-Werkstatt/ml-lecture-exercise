{
 "cells": [
  {
   "cell_type": "markdown",
   "metadata": {},
   "source": [
    "<img style=\"float: right;\" src=\"../../assets/htwlogo.svg\">\n",
    "\n",
    "# Exercise: all about classification evaluation\n",
    "\n",
    "In the following, we would like to analyze the performance of an already predefined machine learning pipeline.\n",
    "\n",
    "**Author**: _Erik Rodner_<br>"
   ]
  },
  {
   "cell_type": "code",
   "execution_count": null,
   "metadata": {},
   "outputs": [],
   "source": [
    "# Import necessary libraries and functions - a lot :)\n",
    "import numpy as np\n",
    "from sklearn import datasets\n",
    "from sklearn.model_selection import train_test_split, StratifiedKFold, \\\n",
    "                                    cross_val_score, KFold\n",
    "from sklearn.pipeline import Pipeline\n",
    "from sklearn.neighbors import KNeighborsClassifier\n",
    "from sklearn.decomposition import PCA\n",
    "from sklearn.preprocessing import StandardScaler\n",
    "import matplotlib.pyplot as plt\n",
    "from sklearn.metrics import accuracy_score, confusion_matrix, \\\n",
    "                            ConfusionMatrixDisplay\n"
   ]
  },
  {
   "cell_type": "markdown",
   "metadata": {},
   "source": [
    "As a data, we will use the good old labeled-faces-in-the-wild dataset (lfw).\n",
    "Let's download the dataset and display some images."
   ]
  },
  {
   "cell_type": "code",
   "execution_count": null,
   "metadata": {},
   "outputs": [],
   "source": [
    "\n",
    "# Load the digits dataset\n",
    "data = datasets.fetch_lfw_people(min_faces_per_person=32)\n",
    "\n",
    "def display_image_dataset(data, nrows=2, ncols=5):\n",
    "    \"\"\" Display some images \"\"\"\n",
    "    fig, axes = plt.subplots(nrows, ncols, figsize=(10, 5))\n",
    "    for ax, image, label in zip(axes.ravel(), data.images, data.target):\n",
    "        ax.set_axis_off()\n",
    "        ax.imshow(image, cmap=plt.cm.gray, interpolation='nearest')\n",
    "        ax.set_title(f'Target: {label}')\n"
   ]
  },
  {
   "cell_type": "code",
   "execution_count": null,
   "metadata": {},
   "outputs": [],
   "source": [
    "# Standard machine learning pipelines that are not especially \n",
    "# designed for images, simply expect vectors as inputs, so let's\n",
    "# flatten the image data for scikit-learn \n",
    "n_samples = len(data.images)\n",
    "X = data.images.reshape((n_samples, -1))\n",
    "y = data.target"
   ]
  },
  {
   "cell_type": "markdown",
   "metadata": {},
   "source": [
    "## Task 1: Exploration - Analyze the class distribution of the dataset\n",
    "\n",
    "How many classes are there? Is the dataset *imbalanced*? What is the most frequent class?\n",
    "Use some code to answer these questions"
   ]
  },
  {
   "cell_type": "code",
   "execution_count": null,
   "metadata": {},
   "outputs": [],
   "source": []
  },
  {
   "cell_type": "markdown",
   "metadata": {},
   "source": [
    "## Task 2: Analyze the multi-class classifier\n",
    "\n",
    "Let's first a define a classifier pipeline. Each aspect of the definition will be discussed in later lectures:"
   ]
  },
  {
   "cell_type": "code",
   "execution_count": null,
   "metadata": {},
   "outputs": [],
   "source": [
    "pipeline = Pipeline([\n",
    "    ('scaler', StandardScaler()),  # Standardize features\n",
    "    ('pca', PCA(n_components=32)),  # Adjust n_components to your needs\n",
    "    ('knn', KNeighborsClassifier(n_neighbors=5))\n",
    "])"
   ]
  },
  {
   "cell_type": "markdown",
   "metadata": {},
   "source": [
    "Let's dive into some tasks and questions that need to be solved by your code:\n",
    "1. Analyze the classifiers performance on 20% hold-out test data!\n",
    "2. What is the cross-validation performance of it?\n",
    "3. Is accuracy a good measure to use?\n",
    "4. Draw a confusion matrix!\n",
    "5. Bonus: Optimize the pipeline if you can :)"
   ]
  },
  {
   "cell_type": "code",
   "execution_count": null,
   "metadata": {},
   "outputs": [],
   "source": []
  }
 ],
 "metadata": {
  "kernelspec": {
   "display_name": "ml-exercise-pip",
   "language": "python",
   "name": "python3"
  },
  "language_info": {
   "codemirror_mode": {
    "name": "ipython",
    "version": 3
   },
   "file_extension": ".py",
   "mimetype": "text/x-python",
   "name": "python",
   "nbconvert_exporter": "python",
   "pygments_lexer": "ipython3",
   "version": "3.9.20"
  }
 },
 "nbformat": 4,
 "nbformat_minor": 2
}
