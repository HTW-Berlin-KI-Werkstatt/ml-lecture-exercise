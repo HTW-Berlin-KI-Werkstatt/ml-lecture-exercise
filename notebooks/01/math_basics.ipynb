{
 "cells": [
  {
   "cell_type": "markdown",
   "metadata": {},
   "source": [
    "<img style=\"float: right;\" src=\"../../assets/htwlogo.svg\">\n",
    "\n",
    "# Basic linear algebra with numpy\n",
    "\n",
    "Let's learn some basic numpy features. Using tools like numpy is essential for writing\n",
    "code for machine learning algorithms, preparing and filtering data, and building up evaluation\n",
    "pipelines.\n",
    "\n",
    "**Author**: _Erik Rodner_<br>"
   ]
  },
  {
   "cell_type": "code",
   "execution_count": null,
   "metadata": {},
   "outputs": [],
   "source": [
    "import numpy as np # simple import of numpy first, np is the usual abbreviation"
   ]
  },
  {
   "cell_type": "markdown",
   "metadata": {},
   "source": [
    "### Create matrices, vectors, etc.\n",
    "\n",
    "Let's create some matrices, vectors etc. with various options how to set elements."
   ]
  },
  {
   "cell_type": "code",
   "execution_count": null,
   "metadata": {},
   "outputs": [],
   "source": [
    "vector = np.array([1, 2, 3])\n",
    "print(\"Vector:\", vector)\n",
    "matrix = np.array([[1, 2, 3], [4, 5, 6]])\n",
    "print(\"Matrix:\\n\", matrix)"
   ]
  },
  {
   "cell_type": "code",
   "execution_count": null,
   "metadata": {},
   "outputs": [],
   "source": [
    "zeros_vector = np.zeros(5)\n",
    "print(\"Zeros Vector:\", zeros_vector)\n",
    "ones_matrix = np.ones((3, 3))\n",
    "print(\"Ones Matrix:\\n\", ones_matrix)"
   ]
  },
  {
   "cell_type": "code",
   "execution_count": null,
   "metadata": {},
   "outputs": [],
   "source": [
    "random_uniform = np.random.rand(3, 3)\n",
    "print(\"Random Uniform Matrix:\\n\", random_uniform)\n",
    "random_integers = np.random.randint(0, 10, size=(3, 3))\n",
    "print(\"Random Integers Matrix:\\n\", random_integers)\n",
    "random_normal = np.random.randn(3, 3)\n",
    "print(\"Random Normal Distribution Matrix:\\n\", random_normal)"
   ]
  },
  {
   "cell_type": "markdown",
   "metadata": {},
   "source": [
    "### Matrix operations\n",
    "\n",
    "Let's look into some basic operations. First, some element-wise operations are quite straightforward:"
   ]
  },
  {
   "cell_type": "code",
   "execution_count": null,
   "metadata": {},
   "outputs": [],
   "source": [
    "a = np.array([1, 2, 3])\n",
    "b = np.array([4, 5, 6])\n",
    "print(\"Sum:\", a + b)\n",
    "print(\"Element-wise Multiplication:\", a * b)"
   ]
  },
  {
   "cell_type": "markdown",
   "metadata": {},
   "source": [
    "The dot product (German: \"Skalarprodukt\") between the two vectors can be done as follows:"
   ]
  },
  {
   "cell_type": "code",
   "execution_count": null,
   "metadata": {},
   "outputs": [],
   "source": [
    "dot_product = np.dot(a, b)\n",
    "print(\"Dot Product:\", dot_product)"
   ]
  },
  {
   "cell_type": "markdown",
   "metadata": {},
   "source": [
    "The same operation can be used for matrix-matrix and matrix-vector multiplications:"
   ]
  },
  {
   "cell_type": "code",
   "execution_count": null,
   "metadata": {},
   "outputs": [],
   "source": [
    "A = np.random.randn(3,3)\n",
    "v = np.random.randn(3)\n",
    "print (\"A*v = \", np.dot(A,v))"
   ]
  },
  {
   "cell_type": "markdown",
   "metadata": {},
   "source": [
    "### Applying mathematical functions\n",
    "\n",
    "Simple mathematical functions can be applied to vectors and matrices in an element-wise fashion:"
   ]
  },
  {
   "cell_type": "code",
   "execution_count": null,
   "metadata": {},
   "outputs": [],
   "source": [
    "angles = np.linspace(0, np.pi, 10) # 10 values between 0 and Pi (equally spaced)\n",
    "sine_values = np.sin(angles)\n",
    "print(\"Sine Values:\", sine_values)"
   ]
  },
  {
   "cell_type": "code",
   "execution_count": null,
   "metadata": {},
   "outputs": [],
   "source": [
    "exp_values = np.exp(angles)\n",
    "log_values = np.log(angles + 0.1) # why +0.1? :)\n",
    "print(\"Exponential Values:\", exp_values)\n",
    "print(\"Logarithmic Values:\", log_values)"
   ]
  },
  {
   "cell_type": "markdown",
   "metadata": {},
   "source": [
    "### Reshaping\n",
    "\n",
    "Reshaping an array is an essential operation when working with NumPy, as it allows you to change the shape of an array without altering its data. Here are some examples demonstrating different ways to reshape arrays:"
   ]
  },
  {
   "cell_type": "code",
   "execution_count": null,
   "metadata": {},
   "outputs": [],
   "source": [
    "original_array = np.array([1, 2, 3, 4, 5, 6])\n",
    "reshaped_matrix = original_array.reshape(2, 3)\n",
    "print(\"Original Array:\", original_array)\n",
    "print(\"Reshaped into 2x3 Matrix:\\n\", reshaped_matrix)"
   ]
  },
  {
   "cell_type": "markdown",
   "metadata": {},
   "source": [
    "You can also automatically calculate one dimension using -1:"
   ]
  },
  {
   "cell_type": "code",
   "execution_count": null,
   "metadata": {},
   "outputs": [],
   "source": [
    "auto_reshape = original_array.reshape(-1, 2)\n",
    "print(\"Automatic Reshape to 3x2 Matrix:\\n\", auto_reshape)"
   ]
  },
  {
   "cell_type": "code",
   "execution_count": null,
   "metadata": {},
   "outputs": [],
   "source": [
    "two_d_matrix = np.array([[1, 2, 3], [4, 5, 6]])\n",
    "flattened = two_d_matrix.flatten() # is basically a shortcut for a certain reshape operation to a vector"
   ]
  },
  {
   "cell_type": "markdown",
   "metadata": {},
   "source": [
    "### Indexing with numpy\n",
    "\n",
    "Accessing single elements is of course straightforward in numpy so let's skip this and rather show some even greater features."
   ]
  },
  {
   "cell_type": "code",
   "execution_count": null,
   "metadata": {},
   "outputs": [],
   "source": [
    "arr = np.array([10, 20, 30, 40])\n",
    "sliced_arr = arr[1:3] # please note that index 3 is excluded!\n",
    "print(\"Sliced array (index 1 to 2):\", sliced_arr)  \n",
    "stepped_slice = arr[::2] # slicing with steps\n",
    "print(\"Every second element:\", stepped_slice)    "
   ]
  },
  {
   "cell_type": "code",
   "execution_count": null,
   "metadata": {},
   "outputs": [],
   "source": [
    "matrix = np.array([[1, 2, 3], [4, 5, 6]])\n",
    "first_row = matrix[0, :]\n",
    "print(\"First row:\", first_row)                    \n",
    "second_column = matrix[:, 1]\n",
    "print(\"Second column:\", second_column)   "
   ]
  },
  {
   "cell_type": "code",
   "execution_count": null,
   "metadata": {},
   "outputs": [],
   "source": [
    "bool_array = arr > 20\n",
    "filtered_elements = arr[bool_array]\n",
    "print(\"Elements greater than 20:\", filtered_elements)  # Output: [30 40]"
   ]
  },
  {
   "cell_type": "code",
   "execution_count": null,
   "metadata": {},
   "outputs": [],
   "source": [
    "indices = [0, 2]\n",
    "fancy_indexed = arr[indices]\n",
    "print(\"Elements at index 0 and 2:\", fancy_indexed)"
   ]
  },
  {
   "cell_type": "code",
   "execution_count": null,
   "metadata": {},
   "outputs": [],
   "source": [
    "multi_indices = [0, 1], [1, 2]\n",
    "fancy_multi = matrix[multi_indices]\n",
    "print(\"Selected elements with fancy indexing:\", fancy_multi)  # Output: [2 6]\n"
   ]
  },
  {
   "cell_type": "markdown",
   "metadata": {},
   "source": [
    "### Transpose, inverse and more"
   ]
  },
  {
   "cell_type": "code",
   "execution_count": null,
   "metadata": {},
   "outputs": [],
   "source": [
    "matrix = np.array([[1, 2], [3, 4]])\n",
    "\n",
    "# Transpose the matrix\n",
    "transposed_matrix = matrix.T\n",
    "\n",
    "print(\"Original Matrix:\")\n",
    "print(matrix)\n",
    "# Output:\n",
    "# [[1 2]\n",
    "#  [3 4]]\n",
    "\n",
    "print(\"Transposed Matrix:\")\n",
    "print(transposed_matrix)\n",
    "# Output:\n",
    "# [[1 3]\n",
    "#  [2 4]]"
   ]
  },
  {
   "cell_type": "code",
   "execution_count": null,
   "metadata": {},
   "outputs": [],
   "source": [
    "# Calculate the inverse of the matrix\n",
    "inverse_matrix = np.linalg.inv(matrix)\n",
    "\n",
    "print(\"Inverse Matrix:\")\n",
    "print(inverse_matrix)\n",
    "# Output:\n",
    "# [[-2.   1. ]\n",
    "#  [ 1.5 -0.5]]"
   ]
  },
  {
   "cell_type": "markdown",
   "metadata": {},
   "source": [
    "### Euclidean distances\n",
    "\n",
    "Distances are of utmost importance in machine learning. The standard distance is the Euclidean distance."
   ]
  },
  {
   "cell_type": "code",
   "execution_count": null,
   "metadata": {},
   "outputs": [],
   "source": [
    "point_a = np.array([1, 2])\n",
    "point_b = np.array([4, 6])\n",
    "\n",
    "# Calculate Euclidean distance\n",
    "euclidean_distance = np.linalg.norm(point_a - point_b)\n",
    "\n",
    "print(\"Euclidean Distance between points A and B:\", euclidean_distance)\n",
    "# Output: 5.0\n"
   ]
  },
  {
   "cell_type": "markdown",
   "metadata": {},
   "source": [
    "For calculating pairwise Euclidean distance between corresponding rows in two arrays:"
   ]
  },
  {
   "cell_type": "code",
   "execution_count": null,
   "metadata": {},
   "outputs": [],
   "source": [
    "# Create two lists of points\n",
    "points_a = np.array([[1, 2], [3, 4]])\n",
    "points_b = np.array([[4, 6], [7, 8]])\n",
    "\n",
    "# Calculate Euclidean distances between each corresponding pair of points\n",
    "distances = np.linalg.norm(points_a - points_b, axis=1)\n",
    "\n",
    "print(\"Pairwise Euclidean Distances:\")\n",
    "print(distances)\n",
    "# Output: [5 5.65685425]\n"
   ]
  },
  {
   "cell_type": "markdown",
   "metadata": {},
   "source": [
    "### Solving Systems of Linear Equations with NumPy\n",
    "\n",
    "Consider the system of equations:\n",
    "  \n",
    "1. $$2x_1 + 3x_2 = 8$$\n",
    "2. $$3x_1 + x_2 = 5$$\n",
    "\n",
    "This system can be represented in matrix form as: $$\\mathbf{A} \\cdot \\mathbf{x} = \\mathbf{b}$$\n",
    "\n",
    "$$\\mathbf{A} = \\begin{bmatrix} 2 & 3 \\\\ 3 & 1 \\end{bmatrix}, \\quad \\mathbf{x} = \\begin{bmatrix} x_1 \\\\ x_2 \\end{bmatrix}, \\quad b = \\begin{bmatrix} 8 \\\\ 5 \\end{bmatrix}$$\n",
    "\n",
    "Solving the system is also pretty straightforward with numpy:"
   ]
  },
  {
   "cell_type": "code",
   "execution_count": null,
   "metadata": {},
   "outputs": [],
   "source": [
    "# Coefficient matrix (A)\n",
    "A = np.array([[2, 3],\n",
    "              [3, 1]])\n",
    "\n",
    "# Constant vector (b)\n",
    "b = np.array([8, 5])\n",
    "\n",
    "# Solve for x\n",
    "solution = np.linalg.solve(A, b)\n",
    "\n",
    "print(\"Solution:\")\n",
    "print(f\"x = (x_1, x_2) = \", solution)"
   ]
  },
  {
   "cell_type": "markdown",
   "metadata": {},
   "source": [
    "Another solution would be to use the inverse of the matrix:"
   ]
  },
  {
   "cell_type": "code",
   "execution_count": null,
   "metadata": {},
   "outputs": [],
   "source": [
    "print(f\"x = (x_1, x_2) = \", np.dot(np.linalg.inv(A), b))"
   ]
  },
  {
   "cell_type": "markdown",
   "metadata": {},
   "source": [
    "Although both methods are mathematically identically, they are numerically and computationally different. It is always best to use a direct method for solving a linear equation system instead of computing the inverse!"
   ]
  }
 ],
 "metadata": {
  "kernelspec": {
   "display_name": "mlexercise",
   "language": "python",
   "name": "python3"
  },
  "language_info": {
   "codemirror_mode": {
    "name": "ipython",
    "version": 3
   },
   "file_extension": ".py",
   "mimetype": "text/x-python",
   "name": "python",
   "nbconvert_exporter": "python",
   "pygments_lexer": "ipython3",
   "version": "3.9.20"
  }
 },
 "nbformat": 4,
 "nbformat_minor": 2
}
