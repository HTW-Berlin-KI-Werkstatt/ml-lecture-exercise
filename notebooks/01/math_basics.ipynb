{
 "cells": [
  {
   "cell_type": "markdown",
   "metadata": {},
   "source": [
    "<img style=\"float: right;\" src=\"../../assets/htwlogo.svg\">\n",
    "\n",
    "# Basic math concepts and introduction to numpy\n",
    "\n",
    "Let's test your math skills and learn some basic numpy features on the fly.\n",
    "\n",
    "**Author**: _Erik Rodner_<br>"
   ]
  },
  {
   "cell_type": "code",
   "execution_count": null,
   "metadata": {},
   "outputs": [],
   "source": [
    "import numpy as np # simple import of numpy first, np is the usual abbreviation"
   ]
  },
  {
   "cell_type": "markdown",
   "metadata": {},
   "source": [
    "### Create matrices, vectors, etc.\n",
    "\n",
    "Let's create some matrices, vectors etc. with various options how to set elements."
   ]
  },
  {
   "cell_type": "code",
   "execution_count": null,
   "metadata": {},
   "outputs": [],
   "source": [
    "vector = np.array([1, 2, 3])\n",
    "print(\"Vector:\", vector)\n",
    "matrix = np.array([[1, 2, 3], [4, 5, 6]])\n",
    "print(\"Matrix:\\n\", matrix)"
   ]
  },
  {
   "cell_type": "code",
   "execution_count": null,
   "metadata": {},
   "outputs": [],
   "source": [
    "zeros_vector = np.zeros(5)\n",
    "print(\"Zeros Vector:\", zeros_vector)\n",
    "ones_matrix = np.ones((3, 3))\n",
    "print(\"Ones Matrix:\\n\", ones_matrix)"
   ]
  },
  {
   "cell_type": "code",
   "execution_count": null,
   "metadata": {},
   "outputs": [],
   "source": [
    "random_uniform = np.random.rand(3, 3)\n",
    "print(\"Random Uniform Matrix:\\n\", random_uniform)\n",
    "random_integers = np.random.randint(0, 10, size=(3, 3))\n",
    "print(\"Random Integers Matrix:\\n\", random_integers)\n",
    "random_normal = np.random.randn(3, 3)\n",
    "print(\"Random Normal Distribution Matrix:\\n\", random_normal)"
   ]
  },
  {
   "cell_type": "markdown",
   "metadata": {},
   "source": [
    "### Matrix operations\n",
    "\n",
    "Let's look into some basic operations. First, some element-wise operations are quite straightforward:"
   ]
  },
  {
   "cell_type": "code",
   "execution_count": null,
   "metadata": {},
   "outputs": [],
   "source": [
    "a = np.array([1, 2, 3])\n",
    "b = np.array([4, 5, 6])\n",
    "print(\"Sum:\", a + b)\n",
    "print(\"Element-wise Multiplication:\", a * b)"
   ]
  },
  {
   "cell_type": "markdown",
   "metadata": {},
   "source": [
    "The dot product (German: \"Skalarprodukt\") between the two vectors can be done as follows:"
   ]
  },
  {
   "cell_type": "code",
   "execution_count": null,
   "metadata": {},
   "outputs": [],
   "source": [
    "dot_product = np.dot(a, b)\n",
    "print(\"Dot Product:\", dot_product)"
   ]
  },
  {
   "cell_type": "markdown",
   "metadata": {},
   "source": [
    "The same operation can be used for matrix-matrix and matrix-vector multiplications:"
   ]
  },
  {
   "cell_type": "code",
   "execution_count": null,
   "metadata": {},
   "outputs": [],
   "source": [
    "A = np.random.randn(3,3)\n",
    "v = np.random.randn(3)\n",
    "print (\"A*v = \", np.dot(A,v))"
   ]
  },
  {
   "cell_type": "markdown",
   "metadata": {},
   "source": [
    "### Applying mathematical functions\n",
    "\n",
    "Simple mathematical functions can be applied to vectors and matrices in an element-wise fashion:"
   ]
  },
  {
   "cell_type": "code",
   "execution_count": null,
   "metadata": {},
   "outputs": [],
   "source": [
    "angles = np.linspace(0, np.pi, 10) # 10 values between 0 and Pi (equally spaced)\n",
    "sine_values = np.sin(angles)\n",
    "print(\"Sine Values:\", sine_values)"
   ]
  },
  {
   "cell_type": "code",
   "execution_count": null,
   "metadata": {},
   "outputs": [],
   "source": [
    "exp_values = np.exp(angles)\n",
    "log_values = np.log(angles + 0.1) # why +0.1? :)\n",
    "print(\"Exponential Values:\", exp_values)\n",
    "print(\"Logarithmic Values:\", log_values)"
   ]
  },
  {
   "cell_type": "markdown",
   "metadata": {},
   "source": [
    "### Reshaping\n",
    "\n",
    "Reshaping an array is an essential operation when working with NumPy, as it allows you to change the shape of an array without altering its data. Here are some examples demonstrating different ways to reshape arrays:"
   ]
  },
  {
   "cell_type": "code",
   "execution_count": null,
   "metadata": {},
   "outputs": [],
   "source": [
    "original_array = np.array([1, 2, 3, 4, 5, 6])\n",
    "reshaped_matrix = original_array.reshape(2, 3)\n",
    "print(\"Original Array:\", original_array)\n",
    "print(\"Reshaped into 2x3 Matrix:\\n\", reshaped_matrix)"
   ]
  },
  {
   "cell_type": "markdown",
   "metadata": {},
   "source": [
    "You can also automatically calculate one dimension using -1:"
   ]
  },
  {
   "cell_type": "code",
   "execution_count": null,
   "metadata": {},
   "outputs": [],
   "source": [
    "auto_reshape = original_array.reshape(-1, 2)\n",
    "print(\"Automatic Reshape to 3x2 Matrix:\\n\", auto_reshape)"
   ]
  },
  {
   "cell_type": "code",
   "execution_count": null,
   "metadata": {},
   "outputs": [],
   "source": [
    "two_d_matrix = np.array([[1, 2, 3], [4, 5, 6]])\n",
    "flattened = two_d_matrix.flatten() # is basically a shortcut for a certain reshape operation to a vector"
   ]
  },
  {
   "cell_type": "markdown",
   "metadata": {},
   "source": [
    "### Indexing with numpy\n",
    "\n",
    "Accessing single elements is of course straightforward in numpy so let's skip this and rather show some even greater features."
   ]
  },
  {
   "cell_type": "code",
   "execution_count": null,
   "metadata": {},
   "outputs": [],
   "source": [
    "arr = np.array([10, 20, 30, 40])\n",
    "sliced_arr = arr[1:3] # please note that index 3 is excluded!\n",
    "print(\"Sliced array (index 1 to 2):\", sliced_arr)  \n",
    "stepped_slice = arr[::2] # slicing with steps\n",
    "print(\"Every second element:\", stepped_slice)    "
   ]
  },
  {
   "cell_type": "code",
   "execution_count": null,
   "metadata": {},
   "outputs": [],
   "source": [
    "matrix = np.array([[1, 2, 3], [4, 5, 6]])\n",
    "first_row = matrix[0, :]\n",
    "print(\"First row:\", first_row)                    \n",
    "second_column = matrix[:, 1]\n",
    "print(\"Second column:\", second_column)   "
   ]
  },
  {
   "cell_type": "code",
   "execution_count": null,
   "metadata": {},
   "outputs": [],
   "source": [
    "bool_array = arr > 20\n",
    "filtered_elements = arr[bool_array]\n",
    "print(\"Elements greater than 20:\", filtered_elements)  # Output: [30 40]"
   ]
  },
  {
   "cell_type": "code",
   "execution_count": null,
   "metadata": {},
   "outputs": [],
   "source": [
    "indices = [0, 2]\n",
    "fancy_indexed = arr[indices]\n",
    "print(\"Elements at index 0 and 2:\", fancy_indexed)"
   ]
  },
  {
   "cell_type": "code",
   "execution_count": null,
   "metadata": {},
   "outputs": [],
   "source": [
    "multi_indices = [0, 1], [1, 2]\n",
    "fancy_multi = matrix[multi_indices]\n",
    "print(\"Selected elements with fancy indexing:\", fancy_multi)  # Output: [2 6]\n"
   ]
  }
 ],
 "metadata": {
  "kernelspec": {
   "display_name": "mlexercise",
   "language": "python",
   "name": "python3"
  },
  "language_info": {
   "codemirror_mode": {
    "name": "ipython",
    "version": 3
   },
   "file_extension": ".py",
   "mimetype": "text/x-python",
   "name": "python",
   "nbconvert_exporter": "python",
   "pygments_lexer": "ipython3",
   "version": "3.9.20"
  }
 },
 "nbformat": 4,
 "nbformat_minor": 2
}
