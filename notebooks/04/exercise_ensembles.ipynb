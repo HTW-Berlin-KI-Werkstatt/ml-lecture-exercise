{
 "cells": [
  {
   "cell_type": "code",
   "execution_count": null,
   "metadata": {},
   "outputs": [],
   "source": [
    "# Import the necessary libraries\n",
    "import numpy as np\n",
    "import matplotlib.pyplot as plt\n",
    "from sklearn.ensemble import AdaBoostClassifier\n",
    "from sklearn.tree import DecisionTreeClassifier\n",
    "from sklearn.datasets import load_breast_cancer\n",
    "from sklearn.model_selection import train_test_split\n",
    "from sklearn.metrics import accuracy_score\n",
    "\n",
    "# Load the Breast Cancer dataset\n",
    "X, y = load_breast_cancer(return_X_y=True)\n",
    "X_train, X_test, y_train, y_test = train_test_split(X, y, test_size=0.3, random_state=42)\n",
    "\n",
    "# Exercise: Implement the AdaBoost model and analyze individual classifier contributions\n",
    "\n",
    "# begin solution\n",
    "# Initialize base estimator\n",
    "base_estimator = DecisionTreeClassifier(max_depth=1)  # A decision stump as a weak learner\n",
    "\n",
    "# Initialize AdaBoost\n",
    "n_estimators = 50\n",
    "adaboost = AdaBoostClassifier(base_estimator=base_estimator, \n",
    "                              n_estimators=n_estimators, \n",
    "                              learning_rate=1.0, \n",
    "                              random_state=42)\n",
    "\n",
    "# Train the model\n",
    "adaboost.fit(X_train, y_train)\n",
    "\n",
    "# Analyze individual classifiers in the ensemble\n",
    "estimator_errors = []\n",
    "for estimator in adaboost.estimators_:\n",
    "    y_pred = estimator.predict(X_test)\n",
    "    error = 1 - accuracy_score(y_test, y_pred)\n",
    "    estimator_errors.append(error)\n",
    "\n",
    "# Visualize the error of each individual estimator\n",
    "plt.figure(figsize=(10, 6))\n",
    "plt.plot(range(1, n_estimators + 1), estimator_errors, marker='o')\n",
    "plt.title('Error Rate of Individual Estimators in AdaBoost Ensemble')\n",
    "plt.xlabel('Estimator Index')\n",
    "plt.ylabel('Error Rate')\n",
    "plt.grid()\n",
    "plt.show()\n",
    "\n",
    "# Evaluate ensemble performance\n",
    "y_pred = adaboost.predict(X_test)\n",
    "accuracy = accuracy_score(y_test, y_pred)\n",
    "print(f\"AdaBoost Test Accuracy: {accuracy:.4f}\")\n",
    "# end solution\n"
   ]
  }
 ],
 "metadata": {
  "kernelspec": {
   "display_name": "ml-exercise-pip",
   "language": "python",
   "name": "python3"
  },
  "language_info": {
   "codemirror_mode": {
    "name": "ipython",
    "version": 3
   },
   "file_extension": ".py",
   "mimetype": "text/x-python",
   "name": "python",
   "nbconvert_exporter": "python",
   "pygments_lexer": "ipython3",
   "version": "3.9.20"
  }
 },
 "nbformat": 4,
 "nbformat_minor": 2
}
